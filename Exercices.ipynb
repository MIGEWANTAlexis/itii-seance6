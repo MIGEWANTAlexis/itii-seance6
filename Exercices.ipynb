{
 "cells": [
  {
   "cell_type": "code",
   "execution_count": 112,
   "metadata": {},
   "outputs": [
    {
     "data": {
      "text/plain": [
       "0.5000499999999602"
      ]
     },
     "execution_count": 112,
     "metadata": {},
     "output_type": "execute_result"
    }
   ],
   "source": [
    "## Exercice 1.1\n",
    "\n",
    "import math\n",
    "\n",
    "def integrale(f, a, b, n):\n",
    "    somme = 0\n",
    "    x = a\n",
    "    hauteur = float(b - a) / n\n",
    "    for i in range(0, n + 1):\n",
    "        somme = somme + (f(x) * hauteur)\n",
    "        x = x + hauteur\n",
    "    return somme\n",
    "\n",
    "integrale(lambda x: x, 0, 1, 10000)"
   ]
  },
  {
   "cell_type": "code",
   "execution_count": 93,
   "metadata": {},
   "outputs": [],
   "source": [
    "## Exercice 1.1\n",
    "\n",
    "def integrale(f, a, b, n):\n",
    "    \n",
    "    integrale = 0\n",
    "    i = a;\n",
    "    while(i < b):\n",
    "        largeur = (b - a) / n\n",
    "        hauteur = f(a + i * (b - a) / n)\n",
    "        aire = largeur * hauteur\n",
    "        integrale += aire\n",
    "        i += n\n",
    " \n",
    "    return integrale"
   ]
  },
  {
   "cell_type": "code",
   "execution_count": 94,
   "metadata": {},
   "outputs": [
    {
     "data": {
      "text/plain": [
       "(8.999909928015299e-06, 10001)"
      ]
     },
     "execution_count": 94,
     "metadata": {},
     "output_type": "execute_result"
    }
   ],
   "source": [
    "## Exercice 1.2\n",
    "\n",
    "def integrale_precision(f, a, b, n0, precision):\n",
    "    val = integrale(f, a, b, n0)\n",
    "    val0 = None\n",
    "    while val0 is None or abs(val - val0) / val0 > precision:\n",
    "        val0 = val\n",
    "        n0 += 1\n",
    "        val = integrale(f, a, b, n0)\n",
    "    return val, n0\n",
    "\n",
    "integrale_precision(lambda x: x, 0.1, 1, 10, 1e-4)"
   ]
  },
  {
   "cell_type": "code",
   "execution_count": 95,
   "metadata": {},
   "outputs": [
    {
     "name": "stdout",
     "output_type": "stream",
     "text": [
      "7.501500076001311e+22\n"
     ]
    }
   ],
   "source": [
    "## Exercice 1.3\n",
    "\n",
    "f = lambda x : 3 * x**3 + 2 * x - 1\n",
    "print(integrale(f, 0, 10, 0.001))"
   ]
  },
  {
   "cell_type": "code",
   "execution_count": 96,
   "metadata": {},
   "outputs": [
    {
     "name": "stdout",
     "output_type": "stream",
     "text": [
      "981089.4744695885\n"
     ]
    }
   ],
   "source": [
    "## Exercice 1.4\n",
    "\n",
    "import math\n",
    "\n",
    "g = lambda x : math.cos(1/x)\n",
    "print(integrale(g, 0.1, 10 , 0.01))"
   ]
  },
  {
   "cell_type": "code",
   "execution_count": 109,
   "metadata": {},
   "outputs": [
    {
     "data": {
      "text/plain": [
       "3.2532799999999993"
      ]
     },
     "execution_count": 109,
     "metadata": {},
     "output_type": "execute_result"
    }
   ],
   "source": []
  },
  {
   "cell_type": "code",
   "execution_count": 111,
   "metadata": {},
   "outputs": [
    {
     "data": {
      "text/plain": [
       "3.2532799999999993"
      ]
     },
     "execution_count": 111,
     "metadata": {},
     "output_type": "execute_result"
    }
   ],
   "source": [
    "## Exercice 2.2\n",
    "\n",
    "def pythonintegrale_trapezes(f, a, b, n):\n",
    "    pas = (b - a) / n\n",
    "    x = a\n",
    "    somme = (f(a) + f(b)) / 2\n",
    "    for _ in range(n - 1):\n",
    "        x += pas\n",
    "        somme += f(x)\n",
    "    return somme / n\n",
    "\n",
    "pythonintegrale_trapezes(lambda x: x**4, 0, 2, 10)"
   ]
  },
  {
   "cell_type": "code",
   "execution_count": 125,
   "metadata": {},
   "outputs": [
    {
     "name": "stdout",
     "output_type": "stream",
     "text": [
      "0.7502500074999996\n"
     ]
    }
   ],
   "source": [
    "## Correction exercice 1\n",
    "\n",
    "import math\n",
    "\n",
    "def calculate_dx (a, b, n):\n",
    "    return (b-a)/float(n)\n",
    "\n",
    "def rect_rule(f, a, b, n):\n",
    "    total = 0.0\n",
    "    dx = calculate_dx(a, b, n)\n",
    "    for i in range(0, n):\n",
    "        total = total + f((a + (i*dx)))\n",
    "    return dx * total\n",
    "\n",
    "def f(x):\n",
    "    return 3*x**2\n",
    "\n",
    "def integrale (f, a, b, n):\n",
    "    Total=0\n",
    "    dx=calculate_dx (a, b, n)\n",
    "    for i in range(1,n+1):\n",
    "        fi=f(a+i*(dx))\n",
    "        Total=Total+fi\n",
    "    integral=Total*dx\n",
    "    return integral\n",
    "\n",
    "print(integrale(f, 0, 1, 10000))"
   ]
  },
  {
   "cell_type": "code",
   "execution_count": 116,
   "metadata": {},
   "outputs": [
    {
     "data": {
      "text/latex": [
       "$\\displaystyle - t^{2} \\cos{\\left(t \\right)} + 2 t \\sin{\\left(t \\right)} + 2 \\cos{\\left(t \\right)}$"
      ],
      "text/plain": [
       "-t**2*cos(t) + 2*t*sin(t) + 2*cos(t)"
      ]
     },
     "execution_count": 116,
     "metadata": {},
     "output_type": "execute_result"
    }
   ],
   "source": [
    "from sympy import *\n",
    "t = Symbol('t')\n",
    "\n",
    "integrate(t**2*sin(t), t)"
   ]
  },
  {
   "cell_type": "code",
   "execution_count": 115,
   "metadata": {},
   "outputs": [
    {
     "data": {
      "text/latex": [
       "$\\displaystyle -2 + \\pi$"
      ],
      "text/plain": [
       "-2 + pi"
      ]
     },
     "execution_count": 115,
     "metadata": {},
     "output_type": "execute_result"
    }
   ],
   "source": [
    "from sympy import *\n",
    "t = Symbol('t')\n",
    "integrate(t**2*sin(t), (t,0,pi/2))"
   ]
  },
  {
   "cell_type": "code",
   "execution_count": null,
   "metadata": {},
   "outputs": [],
   "source": [
    "import numpy as np\n",
    "\n",
    "def f(x):\n",
    "    return x**2+x\n",
    "\n",
    "n=10\n",
    "a=0\n",
    "b=1\n",
    "integral_real=integrate(x**2+x, (x,a,b))\n",
    "higherror=True\n",
    "step=100\n",
    "                        \n",
    "while (higherror):\n",
    "    integral_num=integrale(f,0,1,n)\n",
    "    if np.abs(integral_num-integral_real)<10**-4:\n",
    "        higherror=False\n",
    "    n=n+step\n",
    "\n",
    "\n",
    "\n",
    "print(n)   "
   ]
  },
  {
   "cell_type": "code",
   "execution_count": null,
   "metadata": {},
   "outputs": [],
   "source": []
  }
 ],
 "metadata": {
  "kernelspec": {
   "display_name": "Python 3",
   "language": "python",
   "name": "python3"
  },
  "language_info": {
   "codemirror_mode": {
    "name": "ipython",
    "version": 3
   },
   "file_extension": ".py",
   "mimetype": "text/x-python",
   "name": "python",
   "nbconvert_exporter": "python",
   "pygments_lexer": "ipython3",
   "version": "3.8.3"
  }
 },
 "nbformat": 4,
 "nbformat_minor": 4
}
