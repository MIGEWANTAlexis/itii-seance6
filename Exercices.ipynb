{
 "cells": [
  {
   "cell_type": "code",
   "execution_count": 1,
   "metadata": {},
   "outputs": [
    {
     "name": "stdout",
     "output_type": "stream",
     "text": [
      "-0.16855650739218664\n"
     ]
    }
   ],
   "source": [
    "#Exercice 1\n",
    "\n",
    "import math\n",
    "def integrale(f,a,b,n):\n",
    "    s = 0\n",
    "    pas = float(b - a) / n\n",
    "    for i in range(0, n + 1):\n",
    "        s += (f(a) * pas)\n",
    "        a += pas\n",
    "    return s\n",
    "\n",
    "def f(x):\n",
    "    return math.cos(1/x)\n",
    "\n",
    "def precision(a,b,p):\n",
    "    n=1\n",
    "    while((b-a)/n>=p):\n",
    "        n+=1  \n",
    "    return n\n",
    "\n",
    "a = integrale(f,-1,-0.0001,precision(-1,-0.0001,0.0001))\n",
    "b = integrale(f,0.0001,1,precision(0.0001,1,0.0001))\n",
    "print(a+b)"
   ]
  },
  {
   "cell_type": "code",
   "execution_count": 2,
   "metadata": {},
   "outputs": [
    {
     "data": {
      "text/plain": [
       "0.4999900000500002"
      ]
     },
     "execution_count": 2,
     "metadata": {},
     "output_type": "execute_result"
    }
   ],
   "source": [
    "#Exercice 2 - Q2\n",
    "def trapezes(f, a, b, n):\n",
    "     res = (b-a)/(2*n)\n",
    "     s = 0\n",
    "     i = 1\n",
    "     for k in range(i, n):\n",
    "       s += f(a+(k-i)*(b-a)/n) + f(a+k*(b-a)/n)\n",
    "     return res*s\n",
    "\n",
    "def f(x):\n",
    "  return x\n",
    "trapezes(f, 0, 1, 100000)"
   ]
  },
  {
   "cell_type": "code",
   "execution_count": null,
   "metadata": {},
   "outputs": [],
   "source": []
  },
  {
   "cell_type": "code",
   "execution_count": null,
   "metadata": {},
   "outputs": [],
   "source": []
  },
  {
   "cell_type": "code",
   "execution_count": null,
   "metadata": {},
   "outputs": [],
   "source": []
  },
  {
   "cell_type": "code",
   "execution_count": null,
   "metadata": {},
   "outputs": [],
   "source": []
  },
  {
   "cell_type": "code",
   "execution_count": null,
   "metadata": {},
   "outputs": [],
   "source": []
  },
  {
   "cell_type": "code",
   "execution_count": null,
   "metadata": {},
   "outputs": [],
   "source": []
  },
  {
   "cell_type": "code",
   "execution_count": null,
   "metadata": {},
   "outputs": [],
   "source": []
  },
  {
   "cell_type": "code",
   "execution_count": null,
   "metadata": {},
   "outputs": [],
   "source": []
  },
  {
   "cell_type": "code",
   "execution_count": null,
   "metadata": {},
   "outputs": [],
   "source": []
  },
  {
   "cell_type": "code",
   "execution_count": null,
   "metadata": {},
   "outputs": [],
   "source": []
  },
  {
   "cell_type": "code",
   "execution_count": null,
   "metadata": {},
   "outputs": [],
   "source": []
  }
 ],
 "metadata": {
  "kernelspec": {
   "display_name": "Python 3",
   "language": "python",
   "name": "python3"
  },
  "language_info": {
   "codemirror_mode": {
    "name": "ipython",
    "version": 3
   },
   "file_extension": ".py",
   "mimetype": "text/x-python",
   "name": "python",
   "nbconvert_exporter": "python",
   "pygments_lexer": "ipython3",
   "version": "3.8.5"
  }
 },
 "nbformat": 4,
 "nbformat_minor": 4
}
